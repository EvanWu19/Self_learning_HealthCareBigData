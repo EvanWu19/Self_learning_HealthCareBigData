{
 "cells": [
  {
   "cell_type": "markdown",
   "id": "0f863735",
   "metadata": {},
   "source": [
    "4. Now trying all 1000+ files:\n",
    "\n",
    "    Run it directly in PowerShell 7.\n",
    "    If using the H2 configuration you can restart the container between batches to free memory.\n",
    "    The `hapi-data` volume preserves the database so uploads will resume where they left off."
   ]
  },
  {
   "cell_type": "code",
   "execution_count": null,
   "id": "6e64c003",
   "metadata": {},
   "outputs": [
    {
     "name": "stdout",
     "output_type": "stream",
     "text": [
      "Running: pwsh -ExecutionPolicy Bypass -File upload_fhir_files.ps1 -Throttle 4. Log will be saved to \\\\Desktop-family\\\\k\\\\self_learning_healthcarebigdata\\\\02_hapi_fhir_synthea_load_powershell\\upload_log.txt\n"
     ]
    },
    {
     "name": "stderr",
     "output_type": "stream",
     "text": [
      "Exception in thread Thread-44 (_readerthread):\n",
      "Traceback (most recent call last):\n",
      "  File \"c:\\Users\\evan_\\anaconda3\\Lib\\threading.py\", line 1075, in _bootstrap_inner\n",
      "    self.run()\n",
      "  File \"c:\\Users\\evan_\\anaconda3\\Lib\\threading.py\", line 1012, in run\n",
      "    self._target(*self._args, **self._kwargs)\n",
      "  File \"c:\\Users\\evan_\\anaconda3\\Lib\\subprocess.py\", line 1599, in _readerthread\n",
      "    buffer.append(fh.read())\n",
      "                  ^^^^^^^^^\n",
      "  File \"<frozen codecs>\", line 322, in decode\n",
      "UnicodeDecodeError: 'utf-8' codec can't decode byte 0xa1 in position 1970: invalid start byte\n"
     ]
    },
    {
     "ename": "TypeError",
     "evalue": "write() argument must be str, not None",
     "output_type": "error",
     "traceback": [
      "\u001b[1;31m---------------------------------------------------------------------------\u001b[0m\n",
      "\u001b[1;31mTypeError\u001b[0m                                 Traceback (most recent call last)\n",
      "Cell \u001b[1;32mIn[16], line 15\u001b[0m\n",
      "\u001b[0;32m     13\u001b[0m \u001b[38;5;66;03m# Write complete log to file\u001b[39;00m\n",
      "\u001b[0;32m     14\u001b[0m \u001b[38;5;28;01mwith\u001b[39;00m \u001b[38;5;28mopen\u001b[39m(log_path, \u001b[38;5;124m'\u001b[39m\u001b[38;5;124mw\u001b[39m\u001b[38;5;124m'\u001b[39m) \u001b[38;5;28;01mas\u001b[39;00m f:\n",
      "\u001b[1;32m---> 15\u001b[0m     f\u001b[38;5;241m.\u001b[39mwrite(result\u001b[38;5;241m.\u001b[39mstdout)\n",
      "\u001b[0;32m     16\u001b[0m     \u001b[38;5;28;01mif\u001b[39;00m result\u001b[38;5;241m.\u001b[39mstderr:\n",
      "\u001b[0;32m     17\u001b[0m         f\u001b[38;5;241m.\u001b[39mwrite(\u001b[38;5;124m\"\u001b[39m\u001b[38;5;130;01m\\n\u001b[39;00m\u001b[38;5;124mSTDERR:\u001b[39m\u001b[38;5;130;01m\\n\u001b[39;00m\u001b[38;5;124m\"\u001b[39m)\n",
      "\n",
      "\u001b[1;31mTypeError\u001b[0m: write() argument must be str, not None"
     ]
    }
   ],
   "source": [
    "import subprocess\n",
    "import os\n",
    "\n",
    "# Configure log directory and path\n",
    "log_dir = r\"\\\\Desktop-family\\\\k\\\\self_learning_healthcarebigdata\\\\02_hapi_fhir_synthea_load_powershell\"\n",
    "os.makedirs(log_dir, exist_ok=True)\n",
    "log_path = os.path.join(log_dir, \"upload_log.txt\")\n",
    "\n",
    "# Use PowerShell Tee-Object to write full log\n",
    "ps_command = f\"& {{ .\\\\upload_fhir_files.ps1 -Throttle 4 | Tee-Object -FilePath '{log_path}' }}\"\n",
    "print(f\"Running upload script with PowerShell logging to {log_path}\")\n",
    "subprocess.run([\"pwsh\", \"-NoProfile\", \"-Command\", ps_command])\n",
    "\n",
    "# Display last 300 lines from log with safe encoding\n",
    "print(\"\\nLast 300 log lines:\")\n",
    "with open(log_path, 'r', errors='replace') as f:\n",
    "    lines = f.readlines()\n",
    "for line in lines[-300:]:\n",
    "    print(line, end='')\n"
   ]
  },
  {
   "cell_type": "markdown",
   "id": "c707a00d",
   "metadata": {},
   "source": [
    "## 4  Validation suite"
   ]
  },
  {
   "cell_type": "markdown",
   "id": "23391567",
   "metadata": {},
   "source": [
    "# 4.1 Resource counts"
   ]
  },
  {
   "cell_type": "code",
   "execution_count": null,
   "id": "1d6b8a4c",
   "metadata": {},
   "outputs": [],
   "source": [
    "# 3. Resource counts test\n",
    "import subprocess, sys\n",
    "\n",
    "ps_script = r\"\"\"\n",
    "$fhirBase = \"http://localhost:8080/fhir\"\n",
    "$results = [ordered]@{}\n",
    "\n",
    "Write-Output \"`n3. Checking for existing resources...\"\n",
    "$resourceTypes = @(\n",
    "    \"Patient\", \"Encounter\", \"Observation\", \"Condition\", \n",
    "    \"Procedure\", \"MedicationRequest\", \"Immunization\"\n",
    ")\n",
    "$resourceCounts = @{}\n",
    "\n",
    "foreach ($type in $resourceTypes) {\n",
    "    try {\n",
    "        $response = Invoke-RestMethod -Uri \"$fhirBase/$type`?_summary=count\" -Method Get -TimeoutSec 15\n",
    "        $count = $response.total\n",
    "        $resourceCounts[$type] = $count\n",
    "        \n",
    "        if ($count -gt 0) {\n",
    "            Write-Output \"   Found $count $type resources\"\n",
    "        } else {\n",
    "            Write-Output \"No $type resources found\"\n",
    "        }\n",
    "    } catch {\n",
    "        $errorMessage = $_.Exception.Message\n",
    "        $resourceCounts[$type] = \"Error: $errorMessage\"\n",
    "        Write-Output \"   Error checking $type - $errorMessage\"\n",
    "    }\n",
    "}\n",
    "\n",
    "$results[\"Resource Counts\"] = $resourceCounts\n",
    "\"\"\"\n",
    "\n",
    "print(\"Running comprehensive HAPI FHIR server health check...\")\n",
    "result = subprocess.run([\"powershell\", \"-NoLogo\", \"-NoProfile\", \"-Command\", ps_script], \n",
    "                        capture_output=True, text=True)\n",
    "\n",
    "print(result.stdout)\n",
    "if result.stderr:\n",
    "    print(\"STDERR:\", result.stderr, file=sys.stderr)\n",
    "    \n"
   ]
  },
  {
   "cell_type": "markdown",
   "id": "d3e69de9",
   "metadata": {},
   "source": [
    "# 4.2 Test a sample Patient query"
   ]
  },
  {
   "cell_type": "code",
   "execution_count": null,
   "id": "5291c48f",
   "metadata": {},
   "outputs": [],
   "source": [
    "# 4. Test a sample Patient query\n",
    "import subprocess, sys\n",
    "\n",
    "ps_script = r\"\"\"\n",
    "$fhirBase = \"http://localhost:8080/fhir\"\n",
    "$results = [ordered]@{}\n",
    "\n",
    "Write-Output \"`n4. Testing Patient query...\"\n",
    "try {\n",
    "    $patients = Invoke-RestMethod -Uri \"$fhirBase/Patient?_count=1\" -TimeoutSec 15\n",
    "    \n",
    "    if ($patients.entry -and $patients.entry.Count -gt 0) {\n",
    "        $patientId = $patients.entry[0].resource.id\n",
    "        $results[\"Sample Patient\"] = \"Found (ID: $patientId)\"\n",
    "        Write-Output \"   Successfully retrieved patient with ID: $patientId\"\n",
    "        \n",
    "        # Try to get everything for this patient\n",
    "        try {\n",
    "            $everything = Invoke-RestMethod -Uri \"$fhirBase/Patient/$patientId/`$everything\" -TimeoutSec 30\n",
    "            $linkedResources = $everything.entry.Count - 1  # Subtract 1 for the patient resource itself\n",
    "            $results[\"Patient Graph\"] = \"$linkedResources linked resources\"\n",
    "            Write-Output \"   Patient has $linkedResources linked resources\"\n",
    "        } catch {\n",
    "            $errorMessage = $_.Exception.Message\n",
    "            $results[\"Patient Graph\"] = \" FAILED: $errorMessage\"\n",
    "            Write-Output \"   Could not retrieve patient graph: $errorMessage\"\n",
    "        }\n",
    "    } else {\n",
    "        $results[\"Sample Patient\"] = \"None found\"\n",
    "        Write-Output \"  No patients found in database\"\n",
    "    }\n",
    "} catch {\n",
    "    $errorMessage = $_.Exception.Message\n",
    "    $results[\"Sample Patient\"] = \" FAILED: $errorMessage\"\n",
    "    Write-Output \"   Error retrieving patients: $errorMessage\"\n",
    "}\n",
    "\"\"\"\n",
    "\n",
    "print(\"Running comprehensive HAPI FHIR server health check...\")\n",
    "result = subprocess.run([\"powershell\", \"-NoLogo\", \"-NoProfile\", \"-Command\", ps_script], \n",
    "                        capture_output=True, text=True)\n",
    "\n",
    "print(result.stdout)\n",
    "if result.stderr:\n",
    "    print(\"STDERR:\", result.stderr, file=sys.stderr)\n",
    "    \n"
   ]
  },
  {
   "cell_type": "markdown",
   "id": "b682e708",
   "metadata": {},
   "source": [
    "# 4.3 Check database status"
   ]
  },
  {
   "cell_type": "code",
   "execution_count": null,
   "id": "cf584408",
   "metadata": {},
   "outputs": [],
   "source": [
    "# 5. Check database status\n",
    "import subprocess, sys\n",
    "\n",
    "ps_script = r\"\"\"\n",
    "$fhirBase = \"http://localhost:8080/fhir\"\n",
    "$results = [ordered]@{}\n",
    "\n",
    "Write-Output \"`n5. Checking database status...\"\n",
    "try {\n",
    "    # Try to get server status\n",
    "    if ((Get-Command \"docker\" -ErrorAction SilentlyContinue)) {\n",
    "        $stats = docker stats hapi --no-stream --format \"{{.CPUPerc}}|{{.MemPerc}}|{{.MemUsage}}\"\n",
    "        $statsArray = $stats -split \"\\|\"\n",
    "        if ($statsArray.Count -eq 3) {\n",
    "            $results[\"CPU Usage\"] = $statsArray[0]\n",
    "            $results[\"Memory Usage\"] = \"$($statsArray[1]) ($($statsArray[2]))\"\n",
    "            Write-Output \"   Server resources: CPU: $($statsArray[0]), Memory: $($statsArray[1]) ($($statsArray[2]))\"\n",
    "        }\n",
    "    } else {\n",
    "        Write-Output \" Docker command not available, skipping resource check\"\n",
    "    }\n",
    "} catch {\n",
    "    $errorMessage = $_.Exception.Message\n",
    "    Write-Output \" Could not check server resources: $errorMessage\"\n",
    "}\n",
    "\"\"\"\n",
    "\n",
    "print(\"Running comprehensive HAPI FHIR server health check...\")\n",
    "result = subprocess.run([\"powershell\", \"-NoLogo\", \"-NoProfile\", \"-Command\", ps_script], \n",
    "                        capture_output=True, text=True)\n",
    "\n",
    "print(result.stdout)\n",
    "if result.stderr:\n",
    "    print(\"STDERR:\", result.stderr, file=sys.stderr)\n"
   ]
  },
  {
   "cell_type": "code",
   "execution_count": null,
   "id": "40275a8b",
   "metadata": {},
   "outputs": [],
   "source": [
    "import subprocess, sys\n",
    "ps_script = r\"\"\"\n",
    "$fhirBase = \"http://localhost:8080/fhir\"\n",
    "$results = [ordered]@{}\n",
    "\n",
    "# 6. Overall status\n",
    "$overallStatus = if ($results[\"Basic Connectivity\"] -like \"*\") { \"OPERATIONAL\" } else { \"NOT OPERATIONAL\" }\n",
    "$results[\"Overall Status\"] = $overallStatus\n",
    "\n",
    "Write-Output \"`n========== SUMMARY ==========\"\n",
    "Write-Output \"HAPI FHIR Server status: $overallStatus\"\n",
    "\n",
    "# Return the results object for further processing\n",
    "$results | ConvertTo-Json -Depth 3\n",
    "\"\"\"\n",
    "\n",
    "print(\"Running comprehensive HAPI FHIR server health check...\")\n",
    "result = subprocess.run([\"powershell\", \"-NoLogo\", \"-NoProfile\", \"-Command\", ps_script], \n",
    "                        capture_output=True, text=True)\n",
    "\n",
    "print(result.stdout)\n",
    "if result.stderr:\n",
    "    print(\"STDERR:\", result.stderr, file=sys.stderr)"
   ]
  },
  {
   "cell_type": "markdown",
   "id": "5c2a030f",
   "metadata": {},
   "source": [
    "# 4.4 File‑to‑server parity"
   ]
  },
  {
   "cell_type": "code",
   "execution_count": null,
   "id": "5efe5cda",
   "metadata": {},
   "outputs": [],
   "source": [
    "import subprocess, textwrap, sys\n",
    "\n",
    "ps_script = textwrap.dedent(r\"\"\"\n",
    "    $FHIR_BASE = \"http://localhost:8080/fhir/\"\n",
    "    Write-Output \"Retrieving resource counts via standard search...\"\n",
    "    \n",
    "    # Common FHIR resource types in Synthea data\n",
    "    $resourceTypes = @(\n",
    "        'Patient', 'Practitioner', 'Organization',\n",
    "        'Encounter', 'Condition', 'Observation', \n",
    "        'Procedure', 'MedicationRequest', 'Immunization',\n",
    "        'AllergyIntolerance', 'CarePlan', 'DiagnosticReport',\n",
    "        'Goal', 'Medication'\n",
    "    )\n",
    "    \n",
    "    $resourceCounts = [ordered]@{}\n",
    "    $total = 0\n",
    "    \n",
    "    foreach ($type in $resourceTypes) {\n",
    "        try {\n",
    "            Write-Output \"Checking $type resources...\"\n",
    "            $response = Invoke-RestMethod -Uri \"$FHIR_BASE$type`?_summary=count\" -Method Get -TimeoutSec 30\n",
    "            $count = $response.total\n",
    "            $resourceCounts[$type] = $count\n",
    "            $total += $count\n",
    "            Write-Output \"  -> Found $count $type resources\"\n",
    "        } catch {\n",
    "            $errorMessage = $_.Exception.Message\n",
    "            Write-Output \"  -> Error checking $type - $errorMessage\"\n",
    "            $resourceCounts[$type] = 0\n",
    "        }\n",
    "    }\n",
    "    \n",
    "    $resourceCounts[\"TOTAL\"] = $total\n",
    "    Write-Output \"`nTOTAL RESOURCES: $total\"\n",
    "    \n",
    "    # Output JSON summary\n",
    "    $resourceCounts | ConvertTo-Json -Depth 2\n",
    "\"\"\")\n",
    "\n",
    "print(\"Retrieving resource counts from server...\")\n",
    "result = subprocess.run([\"powershell\", \"-NoLogo\", \"-NoProfile\", \"-Command\", ps_script],\n",
    "                        capture_output=True, text=True)\n",
    "\n",
    "print(result.stdout)\n",
    "if result.stderr:\n",
    "    print(\"STDERR:\", result.stderr, file=sys.stderr)"
   ]
  },
  {
   "cell_type": "markdown",
   "id": "60dc8353",
   "metadata": {},
   "source": [
    "# 4.3 Spot‑check a patient graph"
   ]
  },
  {
   "cell_type": "code",
   "execution_count": null,
   "id": "622dcefb",
   "metadata": {},
   "outputs": [],
   "source": [
    "import subprocess\n",
    "\n",
    "# Define PowerShell script to check a random patient's data\n",
    "ps_script = \"\"\"\n",
    "$FHIR_BASE = \"http://localhost:8080/fhir/\"\n",
    "$id = (Invoke-RestMethod -Uri ($FHIR_BASE + \"Patient?_count=1\")).entry[0].resource.id\n",
    "Write-Output \"Random Patient ID = $id\"\n",
    "$everything = Invoke-RestMethod -Uri ($FHIR_BASE + \"Patient/$id/`$everything\")\n",
    "Write-Output (\"Resources linked to patient: \" + $everything.entry.Count)\n",
    "\"\"\"\n",
    "\n",
    "# Execute PowerShell script\n",
    "result = subprocess.run([\"powershell\", \"-Command\", ps_script], capture_output=True, text=True)\n",
    "print(result.stdout)\n",
    "if result.stderr:\n",
    "    print(\"Error:\", result.stderr)"
   ]
  },
  {
   "cell_type": "markdown",
   "id": "233fa4a8",
   "metadata": {},
   "source": [
    "## 5  Next steps\n",
    "* Enable `$export` and time how long NDJSON generation takes.\n",
    "* Switch persistence to PostgreSQL for multi‑million‑resource load.\n",
    "* Layer on SMART‑on‑FHIR or OAuth if you need auth.\n",
    "\n",
    "---\n",
    "*Notebook generated automatically from our ChatGPT session (June 2025).*"
   ]
  }
 ],
 "metadata": {
  "language_info": {
   "name": "python"
  }
 },
 "nbformat": 4,
 "nbformat_minor": 5
}
