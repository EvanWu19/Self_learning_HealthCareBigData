{
 "cells": [
  {
   "cell_type": "markdown",
   "id": "1f78fdd9",
   "metadata": {},
   "source": [
    "# HAPI‑FHIR + Synthea Sandbox (PowerShell Edition)\n",
    "\n",
    "This notebook reproduces the entire setup and validation workflow we walked through in chat, but every shell cell is written for **PowerShell** instead of Git Bash.  Run the cells step‑by‑step in VS Code’s Jupyter view (kernel: *Python* is fine because each shell cell is self‑contained)."
   ]
  },
  {
   "cell_type": "markdown",
   "id": "e453e2f9",
   "metadata": {},
   "source": [
    "## Prerequisites\n",
    "* Docker Desktop running locally\n",
    "* Synthea export folder at `D:\\synthea_out\\fhir` (one **transaction Bundle** JSON per patient)\n",
    "* A PowerShell‑enabled Jupyter environment (VS Code does this automatically when you prefix cells with `%%powershell`)"
   ]
  },
  {
   "cell_type": "markdown",
   "id": "b1181c73",
   "metadata": {},
   "source": [
    "## 1  Start (or restart) the HAPI‑FHIR server container"
   ]
  },
  {
   "cell_type": "code",
   "execution_count": null,
   "id": "79a4781a",
   "metadata": {},
   "outputs": [
    {
     "name": "stdout",
     "output_type": "stream",
     "text": [
      "Launching PowerShell…\n",
      "\n"
     ]
    },
    {
     "name": "stderr",
     "output_type": "stream",
     "text": [
      "STDERR:\n",
      " At line:13 char:5\n",
      "+   --memory=24g --cpus=6 \\\n",
      "+     ~\n",
      "Missing expression after unary operator '--'.\n",
      "At line:13 char:5\n",
      "+   --memory=24g --cpus=6 \\\n",
      "+     ~~~~~~~~~~\n",
      "Unexpected token 'memory=24g' in expression or statement.\n",
      "    + CategoryInfo          : ParserError: (:) [], ParentContainsErrorRecordException\n",
      "    + FullyQualifiedErrorId : MissingExpressionAfterOperator\n",
      " \n",
      "\n"
     ]
    }
   ],
   "source": [
    "import subprocess, sys\n",
    "\n",
    "ps_script = r\"\"\"\n",
    "Write-Output \"Stopping and removing current HAPI FHIR container (ignore errors if it doesn't exist)...\"\n",
    "docker stop hapi 2>$null\n",
    "docker rm   hapi 2>$null\n",
    "\n",
    "Write-Output \"Dropping old volume to reset schema...\"\n",
    "docker volume rm hapi-data 2>$null\n",
    "\n",
    "Write-Output \"Starting HAPI FHIR container (heap 18 GB, cgroup 22 GB)...\"\n",
    "docker run -d --name hapi `\n",
    "  -p 8080:8080 `\n",
    "  -v hapi-data:/data/hapi `\n",
    "  --memory=24g --cpus=6 `\n",
    "  -e spring.datasource.url=jdbc:h2:file:/data/hapi/h2db `\n",
    "  -e spring.datasource.driverClassName=org.h2.Driver `\n",
    "  -e hapi.fhir.scheduler.enabled=false `\n",
    "  -e JAVA_OPTS=\"-Xmx20g -XX:+UseG1GC\" `\n",
    "  hapiproject/hapi:latest\n",
    "\"\"\"\n",
    "\n",
    "print(\"Launching PowerShell…\")\n",
    "completed = subprocess.run(\n",
    "    [\"powershell\", \"-NoLogo\", \"-NoProfile\", \"-Command\", ps_script],\n",
    "    text=True, capture_output=True\n",
    ")\n",
    "\n",
    "print(completed.stdout)\n",
    "if completed.stderr:\n",
    "    print(\"STDERR:\\n\", completed.stderr, file=sys.stderr)\n"
   ]
  },
  {
   "cell_type": "markdown",
   "id": "24c90247",
   "metadata": {},
   "source": [
    "Not applying following code, for postgreps SQL is not supported well by the hapi image, the deep reason is that in order to let JDBC execute SQL, it need HFJ_RESOURCE, so I need to Run Flyway migrations, However, the Flyway integreated in this hapi image do not support any version of PostgrepsSQL, any version of hapi image's flyway do not support any version of postgres image. (Caused by: org.springframework.beans.factory.BeanCreationException: Error creating bean with name 'flywayInitializer' defined in class path resource [org/springframework/boot/autoconfigure/flyway/FlywayAutoConfiguration$FlywayConfiguration.class]: Unsupported Database: PostgreSQL XX.XX\n",
    "2025-07-02 23:54:42)\n",
    "Use docker-compose.yml to create docker in order to use postgres rather than H2 to store the data to prevent Out of Memory Error."
   ]
  },
  {
   "cell_type": "raw",
   "id": "af8dd930",
   "metadata": {
    "vscode": {
     "languageId": "raw"
    }
   },
   "source": [
    "docker compose down          # stop and remove old containers\n",
    "docker compose pull          # fetch the -postgres image\n",
    "docker compose up -d         # start stack\n",
    "docker compose logs -f hapi  # wait for \"Started Application in ...\""
   ]
  },
  {
   "cell_type": "markdown",
   "id": "5dd12ff8",
   "metadata": {},
   "source": [
    "## 2  Set local variables"
   ]
  },
  {
   "cell_type": "code",
   "execution_count": 26,
   "id": "461c100c",
   "metadata": {},
   "outputs": [
    {
     "name": "stdout",
     "output_type": "stream",
     "text": [
      "BUNDLE_DIR set to: //Desktop-family/K/synthea_out/fhir\n",
      "FHIR_BASE set to: http://localhost:8080/fhir/\n",
      "\n"
     ]
    }
   ],
   "source": [
    "import subprocess\n",
    "\n",
    "# Define paths and URL\n",
    "powershell_script = \"\"\"\n",
    "$BUNDLE_DIR = '//Desktop-family/K/synthea_out/fhir'  # Updated to match the path in prerequisites\n",
    "$FHIR_BASE  = \"http://localhost:8080/fhir/\"\n",
    "Write-Host \"BUNDLE_DIR set to: $BUNDLE_DIR\"\n",
    "Write-Host \"FHIR_BASE set to: $FHIR_BASE\"\n",
    "\n",
    "# Set these variables as environment variables so they persist for future cells\n",
    "[Environment]::SetEnvironmentVariable(\"BUNDLE_DIR\", $BUNDLE_DIR, \"Process\")\n",
    "[Environment]::SetEnvironmentVariable(\"FHIR_BASE\", $FHIR_BASE, \"Process\")\n",
    "\"\"\"\n",
    "\n",
    "# Execute PowerShell script\n",
    "result = subprocess.run([\"powershell\", \"-Command\", powershell_script], capture_output=True, text=True)\n",
    "print(result.stdout)\n",
    "if result.stderr:\n",
    "    print(\"Error:\", result.stderr)\n",
    "\n",
    "# Store in Python variables for potential use in Python cells\n",
    "BUNDLE_DIR = '//Desktop-family/K/synthea_out/fhir'\n",
    "FHIR_BASE = \"http://localhost:8080/fhir/\""
   ]
  },
  {
   "cell_type": "markdown",
   "id": "76df910c",
   "metadata": {},
   "source": [
    "### Health check: CapabilityStatement should return JSON"
   ]
  },
  {
   "cell_type": "code",
   "execution_count": 32,
   "id": "92e183a8",
   "metadata": {},
   "outputs": [
    {
     "name": "stdout",
     "output_type": "stream",
     "text": [
      "\n",
      "Error: Invoke-RestMethod : Unable to connect to the remote server\n",
      "At line:3 char:1\n",
      "+ Invoke-RestMethod -Uri ($FHIR_BASE + \"metadata\") | ConvertTo-Json -De ...\n",
      "+ ~~~~~~~~~~~~~~~~~~~~~~~~~~~~~~~~~~~~~~~~~~~~~~~~\n",
      "    + CategoryInfo          : InvalidOperation: (System.Net.HttpWebRequest:HttpWebRequest) [Invoke-RestMethod], WebExc \n",
      "   eption\n",
      "    + FullyQualifiedErrorId : WebCmdletWebResponseException,Microsoft.PowerShell.Commands.InvokeRestMethodCommand\n",
      " \n",
      "\n"
     ]
    }
   ],
   "source": [
    "import subprocess\n",
    "\n",
    "# PowerShell script to check FHIR server health with explicit URL\n",
    "ps_script = \"\"\"\n",
    "$FHIR_BASE = \"http://localhost:8080/fhir/\"\n",
    "Invoke-RestMethod -Uri ($FHIR_BASE + \"metadata\") | ConvertTo-Json -Depth 1 | Select-Object -First 20\n",
    "\"\"\"\n",
    "\n",
    "# Execute PowerShell script\n",
    "result = subprocess.run([\"powershell\", \"-Command\", ps_script], capture_output=True, text=True)\n",
    "print(result.stdout)\n",
    "if result.stderr:\n",
    "    print(\"Error:\", result.stderr)"
   ]
  },
  {
   "cell_type": "markdown",
   "id": "dd3b8077",
   "metadata": {},
   "source": [
    "## 3  Upload every Synthea transaction bundle"
   ]
  },
  {
   "cell_type": "markdown",
   "id": "f4c614d7",
   "metadata": {},
   "source": [
    "1. Verify Docker container is running properly\n"
   ]
  },
  {
   "cell_type": "code",
   "execution_count": null,
   "id": "9b546b3d",
   "metadata": {},
   "outputs": [
    {
     "name": "stdout",
     "output_type": "stream",
     "text": [
      "Checking Docker container status:\n",
      "\n",
      "85acf0d7d13a   hapiproject/hapi:latest   \"java --class-path /…\"   42 seconds ago   Up 42 seconds   \n",
      "0.0.0.0:8080->8080/tcp, [::]:8080->8080/tcp   hapi\n",
      "\n",
      "Container logs (last 20 lines):\n",
      "2025-07-02T13:49:45.913Z  INFO 1 --- [           main] c.u.f.j.sched.BaseSchedulerServiceImpl   : Scheduling local job ca.uhn.fhir.jpa.cache.ResourceChangeListenerCacheRefresherImpl with interval 00:00:10.000\n",
      "2025-07-02T13:49:45.913Z  INFO 1 --- [           main] c.u.f.j.sched.BaseSchedulerServiceImpl   : Scheduling clustered job ca.uhn.fhir.jpa.search.reindex.ResourceReindexingSvcImpl with interval 00:00:10.000\n",
      "2025-07-02T13:49:45.914Z  INFO 1 --- [           main] c.u.f.j.sched.BaseSchedulerServiceImpl   : Scheduling clustered job ca.uhn.fhir.jpa.bulk.export.svc.BulkDataExportJobSchedulingHelperImpl$PurgeExpiredFilesJob with interval 01:00:00\n",
      "2025-07-02T13:49:45.914Z  INFO 1 --- [           main] c.u.f.j.sched.BaseSchedulerServiceImpl   : Scheduling local job ca.uhn.fhir.jpa.bulk.imprt.svc.BulkDataImportSvcImpl$ActivationJob with interval 00:00:10.000\n",
      "2025-07-02T13:49:45.915Z  INFO 1 --- [           main] c.u.f.j.sched.BaseSchedulerServiceImpl   : Scheduling clustered job ca.uhn.fhir.jpa.search.warm.CacheWarmingSvcImpl with interval 00:00:10.000\n",
      "2025-07-02T13:49:45.915Z  INFO 1 --- [           main] c.u.f.j.sched.BaseSchedulerServiceImpl   : Scheduling clustered job ca.uhn.fhir.jpa.term.TermReadSvcImpl with interval 00:10:00\n",
      "2025-07-02T13:49:45.916Z  INFO 1 --- [           main] c.u.f.j.sched.BaseSchedulerServiceImpl   : Scheduling local job ca.uhn.fhir.jpa.term.TermReindexingSvcImpl with interval 00:01:00.000\n",
      "2025-07-02T13:49:45.916Z  INFO 1 --- [           main] c.u.f.j.sched.BaseSchedulerServiceImpl   : Scheduling clustered job ca.uhn.fhir.jpa.search.SearchUrlJobMaintenanceSvcImpl$SearchUrlMaintenanceJob with interval 00:10:00\n",
      "2025-07-02T13:49:45.917Z  INFO 1 --- [           main] c.u.f.j.sched.BaseSchedulerServiceImpl   : Scheduling local job ca.uhn.fhir.jpa.subscription.triggering.SubscriptionTriggeringSvcImpl with interval 5000ms\n",
      "2025-07-02T13:49:45.917Z  INFO 1 --- [           main] c.u.f.j.sched.BaseSchedulerServiceImpl   : Scheduling clustered job ca.uhn.fhir.jpa.subscription.async.AsyncResourceModifiedProcessingSchedulerSvc with interval 5000ms\n",
      "2025-07-02T13:49:45.918Z  INFO 1 --- [           main] c.u.f.j.sched.BaseSchedulerServiceImpl   : Scheduling clustered job ca.uhn.fhir.batch2.coordinator.ReductionStepExecutorServiceImpl$ReductionStepExecutorScheduledJob with interval 00:00:10.000\n",
      "2025-07-02T13:49:45.918Z  INFO 1 --- [           main] c.u.f.j.sched.BaseSchedulerServiceImpl   : Scheduling clustered job ca.uhn.fhir.batch2.maintenance.JobMaintenanceServiceImpl$JobMaintenanceScheduledJob with interval 00:01:00.000\n",
      "2025-07-02T13:49:45.918Z  INFO 1 --- [           main] c.u.f.j.sched.BaseSchedulerServiceImpl   : Starting task schedulers for context application\n",
      "2025-07-02T13:49:45.918Z  INFO 1 --- [           main] c.uhn.fhir.jpa.sched.BaseHapiScheduler   : Starting scheduler hapi-fhir-jpa-scheduler-local\n",
      "2025-07-02T13:49:45.918Z  INFO 1 --- [           main] org.quartz.core.QuartzScheduler          : Scheduler hapi-fhir-jpa-scheduler_$_NON_CLUSTERED started.\n",
      "2025-07-02T13:49:45.918Z  INFO 1 --- [           main] c.uhn.fhir.jpa.sched.BaseHapiScheduler   : Starting scheduler hapi-fhir-jpa-scheduler-clustered\n",
      "2025-07-02T13:49:45.918Z  INFO 1 --- [           main] org.quartz.core.QuartzScheduler          : Scheduler hapi-fhir-jpa-scheduler_$_NON_CLUSTERED started.\n",
      "2025-07-02T13:49:45.919Z  WARN 1 --- [           main] u.f.j.u.PartitionedIdModeVerificationSvc : Dialect is not a HAPI FHIR dialect: org.hibernate.dialect.H2Dialect, version: 2.3.232\n",
      "2025-07-02T13:49:45.920Z  INFO 1 --- [           main] ca.uhn.fhir.jpa.starter.Application      : Started Application in 23.114 seconds (process running for 24.163)\n",
      "2025-07-02T13:49:45.934Z  INFO 1 --- [ler-clustered-3] .s.BulkDataExportJobSchedulingHelperImpl : Finished bulk export job deletion with nothing to do\n",
      "\n",
      "\n",
      "\n"
     ]
    }
   ],
   "source": [
    "import subprocess\n",
    "\n",
    "ps_script = \"\"\"\n",
    "# Check if HAPI FHIR container is running\n",
    "Write-Output \"Checking Docker container status:\"\n",
    "docker ps -a | Select-String -Pattern \"hapi\"\n",
    "\n",
    "# Check container logs for errors\n",
    "Write-Output \"`nContainer logs (last 20 lines):\"\n",
    "docker logs --tail 20 hapi\n",
    "\"\"\"\n",
    "\n",
    "result = subprocess.run([\"powershell\", \"-Command\", ps_script], capture_output=True, text=True)\n",
    "print(result.stdout)\n",
    "if result.stderr:\n",
    "    print(\"Error:\", result.stderr)"
   ]
  },
  {
   "cell_type": "markdown",
   "id": "3cd7df1f",
   "metadata": {},
   "source": [
    "2. Test basic connectivity to the FHIR server\n"
   ]
  },
  {
   "cell_type": "code",
   "execution_count": 8,
   "id": "5cdf3188",
   "metadata": {},
   "outputs": [
    {
     "name": "stdout",
     "output_type": "stream",
     "text": [
      "Testing basic connectivity to FHIR server...\n",
      "Connection successful! Status code: 200\n",
      "\n"
     ]
    }
   ],
   "source": [
    "import subprocess\n",
    "\n",
    "ps_script = \"\"\"\n",
    "Write-Output \"Testing basic connectivity to FHIR server...\"\n",
    "try {\n",
    "    $response = Invoke-WebRequest -Uri \"http://localhost:8080/fhir/metadata\" -TimeoutSec 5\n",
    "    Write-Output \"Connection successful! Status code: $($response.StatusCode)\"\n",
    "} catch {\n",
    "    Write-Output \"Failed to connect: $_\"\n",
    "    \n",
    "    # Check if service is listening on port\n",
    "    Write-Output \"`nChecking port 8080:\"\n",
    "    netstat -ano | findstr :8080\n",
    "}\n",
    "\"\"\"\n",
    "\n",
    "result = subprocess.run([\"powershell\", \"-Command\", ps_script], capture_output=True, text=True)\n",
    "print(result.stdout)\n",
    "if result.stderr:\n",
    "    print(\"Error:\", result.stderr)"
   ]
  },
  {
   "cell_type": "markdown",
   "id": "024a7e30",
   "metadata": {},
   "source": [
    "3. Wait for server to initialize (this is critical):\n"
   ]
  },
  {
   "cell_type": "code",
   "execution_count": 3,
   "id": "b8388858",
   "metadata": {},
   "outputs": [
    {
     "name": "stdout",
     "output_type": "stream",
     "text": [
      "Waiting for HAPI FHIR server to initialize...\n",
      "Connection attempt 1 of 12...\n",
      "Still waiting for server... (The operation has timed out.)\n",
      "Connection attempt 2 of 12...\n",
      "Still waiting for server... (The operation has timed out.)\n",
      "Connection attempt 3 of 12...\n",
      "Still waiting for server... (The operation has timed out.)\n",
      "Connection attempt 4 of 12...\n",
      "Still waiting for server... (The operation has timed out.)\n",
      "Connection attempt 5 of 12...\n",
      "Still waiting for server... (The operation has timed out.)\n",
      "Connection attempt 6 of 12...\n",
      "Still waiting for server... (The operation has timed out.)\n",
      "Connection attempt 7 of 12...\n",
      "Still waiting for server... (The operation has timed out.)\n",
      "Connection attempt 8 of 12...\n",
      "Still waiting for server... (The operation has timed out.)\n",
      "Connection attempt 9 of 12...\n",
      "Still waiting for server... (The operation has timed out.)\n",
      "Connection attempt 10 of 12...\n",
      "Still waiting for server... (The operation has timed out.)\n",
      "Connection attempt 11 of 12...\n",
      "Still waiting for server... (The operation has timed out.)\n",
      "Connection attempt 12 of 12...\n",
      "Still waiting for server... (The operation has timed out.)\n",
      "Server did not become available after 120 seconds\n",
      "\n"
     ]
    }
   ],
   "source": [
    "import subprocess\n",
    "import time\n",
    "\n",
    "print(\"Waiting for HAPI FHIR server to initialize...\")\n",
    "ps_script = \"\"\"\n",
    "$maxAttempts = 12\n",
    "$attempt = 0\n",
    "$success = $false\n",
    "\n",
    "while (-not $success -and $attempt -lt $maxAttempts) {\n",
    "    $attempt++\n",
    "    Write-Output \"Connection attempt $attempt of $maxAttempts...\"\n",
    "    \n",
    "    try {\n",
    "        $response = Invoke-WebRequest -Uri \"http://localhost:8080/fhir/metadata\" -TimeoutSec 10\n",
    "        if ($response.StatusCode -eq 200) {\n",
    "            Write-Output \"Server is up and running! Status code: $($response.StatusCode)\"\n",
    "            $success = $true\n",
    "        }\n",
    "    } catch {\n",
    "        Write-Output \"Still waiting for server... ($($_.Exception.Message))\"\n",
    "        Start-Sleep -Seconds 10\n",
    "    }\n",
    "}\n",
    "\n",
    "if (-not $success) {\n",
    "    Write-Output \"Server did not become available after $(10*$maxAttempts) seconds\"\n",
    "} else {\n",
    "    Write-Output \"HAPI FHIR server is ready to use\"\n",
    "}\n",
    "\"\"\"\n",
    "\n",
    "result = subprocess.run([\"powershell\", \"-Command\", ps_script], capture_output=True, text=True)\n",
    "print(result.stdout)"
   ]
  },
  {
   "cell_type": "raw",
   "id": "270426d3",
   "metadata": {
    "vscode": {
     "languageId": "raw"
    }
   },
   "source": [
    "4. Now trying all 1000+ files:\n",
    "\n",
    "    Run it directly in PowerShell7\n",
    "    Make sure remove the large json file, for the Default H2 database will run out of memory easily."
   ]
  },
  {
   "cell_type": "markdown",
   "id": "9c37206a",
   "metadata": {
    "vscode": {
     "languageId": "raw"
    }
   },
   "source": [
    "pwsh -ExecutionPolicy Bypass -File .\\upload_fhir_files.ps1 |\n",
    "  Tee-Object -FilePath upload_log.txt"
   ]
  },
  {
   "cell_type": "markdown",
   "id": "aa5d787c",
   "metadata": {},
   "source": [
    "5. Testing if a HAPI FHIR Server is Running Correctly\n"
   ]
  },
  {
   "cell_type": "code",
   "execution_count": 16,
   "id": "4996b6b5",
   "metadata": {},
   "outputs": [
    {
     "name": "stdout",
     "output_type": "stream",
     "text": [
      "Running comprehensive HAPI FHIR server health check...\n",
      "========== HAPI FHIR SERVER HEALTH CHECK ==========\n",
      "\n",
      "1. Testing basic connectivity...\n",
      "   Server is reachable! Status code: 200\n",
      "\n"
     ]
    }
   ],
   "source": [
    "import subprocess, sys\n",
    "\n",
    "ps_script = r\"\"\"\n",
    "$fhirBase = \"http://localhost:8080/fhir\"\n",
    "$results = [ordered]@{}\n",
    "\n",
    "Write-Output \"========== HAPI FHIR SERVER HEALTH CHECK ==========\"\n",
    "\n",
    "# 1. Basic connectivity test\n",
    "Write-Output \"`n1. Testing basic connectivity...\"\n",
    "try {\n",
    "    $response = Invoke-WebRequest -Uri \"$fhirBase/metadata\" -TimeoutSec 5 -UseBasicParsing\n",
    "    $results[\"Basic Connectivity\"] = \"OK (Status: $($response.StatusCode))\"\n",
    "    Write-Output \"Server is reachable! Status code: $($response.StatusCode)\"\n",
    "} catch {\n",
    "    $results[\"Basic Connectivity\"] = \"FAILED: $($_.Exception.Message)\"\n",
    "    Write-Output \"Failed to connect: $($_.Exception.Message)\"\n",
    "}\n",
    "\"\"\"\n",
    "\n",
    "print(\"Running comprehensive HAPI FHIR server health check...\")\n",
    "result = subprocess.run([\"powershell\", \"-NoLogo\", \"-NoProfile\", \"-Command\", ps_script], \n",
    "                        capture_output=True, text=True)\n",
    "\n",
    "print(result.stdout)\n",
    "if result.stderr:\n",
    "    print(\"STDERR:\", result.stderr, file=sys.stderr)"
   ]
  },
  {
   "cell_type": "code",
   "execution_count": 17,
   "id": "aa1a7fce",
   "metadata": {},
   "outputs": [
    {
     "name": "stdout",
     "output_type": "stream",
     "text": [
      "Running comprehensive HAPI FHIR server health check...\n",
      "========== HAPI FHIR SERVER HEALTH CHECK ==========\n",
      "   Server info: HAPI FHIR 8.2.0 (FHIR 4.0.1)\n",
      "   Supports 146 resource types\n",
      "   Supports Patient resources\n",
      "   Supports Observation resources\n",
      "   Supports Encounter resources\n",
      "   Supports Condition resources\n",
      "   Supports 9 operations: diff, expunge, get-resource-counts, hapi.fhir.replace-references, mark-all-resources-for-reindexing, meta, perform-reindexing-pass, reindex, reindex-terminology\n",
      "\n"
     ]
    }
   ],
   "source": [
    "\n",
    "# 2. Check server version and capabilities\n",
    "import subprocess, sys\n",
    "\n",
    "ps_script = r\"\"\"\n",
    "$fhirBase = \"http://localhost:8080/fhir\"\n",
    "$results = [ordered]@{}\n",
    "\n",
    "Write-Output \"========== HAPI FHIR SERVER HEALTH CHECK ==========\"\n",
    "try {\n",
    "    $metadata = Invoke-RestMethod -Uri \"$fhirBase/metadata\" -TimeoutSec 10\n",
    "    $version = $metadata.software.version\n",
    "    $fhirVersion = $metadata.fhirVersion\n",
    "    $results[\"Server Version\"] = $version\n",
    "    $results[\"FHIR Version\"] = $fhirVersion\n",
    "    \n",
    "    Write-Output \"   Server info: HAPI FHIR $version (FHIR $fhirVersion)\"\n",
    "    \n",
    "    # List supported resource types\n",
    "    $resourceTypes = $metadata.rest.resource.type | Sort-Object -Unique\n",
    "    $results[\"Resource Types\"] = \"$($resourceTypes.Count) types supported\"\n",
    "    Write-Output \"   Supports $($resourceTypes.Count) resource types\"\n",
    "    \n",
    "    # Check if common resources are supported\n",
    "    $commonTypes = @(\"Patient\", \"Observation\", \"Encounter\", \"Condition\")\n",
    "    foreach ($type in $commonTypes) {\n",
    "        if ($resourceTypes -contains $type) {\n",
    "            Write-Output \"   Supports $type resources\"\n",
    "        } else {\n",
    "            Write-Output \"Does NOT support $type resources\"\n",
    "        }\n",
    "    }\n",
    "    \n",
    "    # List operations\n",
    "    $operations = $metadata.rest.operation.name | Sort-Object -Unique\n",
    "    if ($operations) {\n",
    "        $results[\"Operations\"] = \"$($operations.Count) operations supported\"\n",
    "        Write-Output \"   Supports $($operations.Count) operations: $($operations -join ', ')\"\n",
    "    } else {\n",
    "        $results[\"Operations\"] = \"None found\"\n",
    "        Write-Output \"No operations found in capabilities statement\"\n",
    "    }\n",
    "    \n",
    "} catch {\n",
    "    $results[\"Server Capabilities\"] = \" FAILED: $($_.Exception.Message)\"\n",
    "    Write-Output \"   Failed to retrieve capabilities: $($_.Exception.Message)\"\n",
    "}\n",
    "\"\"\"\n",
    "\n",
    "print(\"Running comprehensive HAPI FHIR server health check...\")\n",
    "result = subprocess.run([\"powershell\", \"-NoLogo\", \"-NoProfile\", \"-Command\", ps_script], \n",
    "                        capture_output=True, text=True)\n",
    "\n",
    "print(result.stdout)\n",
    "if result.stderr:\n",
    "    print(\"STDERR:\", result.stderr, file=sys.stderr)\n",
    "    \n"
   ]
  },
  {
   "cell_type": "code",
   "execution_count": null,
   "id": "3282d7e2",
   "metadata": {},
   "outputs": [],
   "source": []
  },
  {
   "cell_type": "markdown",
   "id": "6064bae6",
   "metadata": {},
   "source": [
    "## 4  Validation suite"
   ]
  },
  {
   "cell_type": "markdown",
   "id": "324e2384",
   "metadata": {},
   "source": [
    "# 4.1 Resource counts"
   ]
  },
  {
   "cell_type": "code",
   "execution_count": 18,
   "id": "ccf76207",
   "metadata": {},
   "outputs": [
    {
     "name": "stdout",
     "output_type": "stream",
     "text": [
      "Running comprehensive HAPI FHIR server health check...\n",
      "\n",
      "3. Checking for existing resources...\n",
      "   Found 404 Patient resources\n",
      "   Found 14346 Encounter resources\n",
      "   Found 77224 Observation resources\n",
      "   Found 10365 Condition resources\n",
      "   Found 40430 Procedure resources\n",
      "   Found 5907 MedicationRequest resources\n",
      "   Found 6011 Immunization resources\n",
      "\n"
     ]
    }
   ],
   "source": [
    "# 3. Resource counts test\n",
    "import subprocess, sys\n",
    "\n",
    "ps_script = r\"\"\"\n",
    "$fhirBase = \"http://localhost:8080/fhir\"\n",
    "$results = [ordered]@{}\n",
    "\n",
    "Write-Output \"`n3. Checking for existing resources...\"\n",
    "$resourceTypes = @(\n",
    "    \"Patient\", \"Encounter\", \"Observation\", \"Condition\", \n",
    "    \"Procedure\", \"MedicationRequest\", \"Immunization\"\n",
    ")\n",
    "$resourceCounts = @{}\n",
    "\n",
    "foreach ($type in $resourceTypes) {\n",
    "    try {\n",
    "        $response = Invoke-RestMethod -Uri \"$fhirBase/$type`?_summary=count\" -Method Get -TimeoutSec 15\n",
    "        $count = $response.total\n",
    "        $resourceCounts[$type] = $count\n",
    "        \n",
    "        if ($count -gt 0) {\n",
    "            Write-Output \"   Found $count $type resources\"\n",
    "        } else {\n",
    "            Write-Output \"No $type resources found\"\n",
    "        }\n",
    "    } catch {\n",
    "        $errorMessage = $_.Exception.Message\n",
    "        $resourceCounts[$type] = \"Error: $errorMessage\"\n",
    "        Write-Output \"   Error checking $type - $errorMessage\"\n",
    "    }\n",
    "}\n",
    "\n",
    "$results[\"Resource Counts\"] = $resourceCounts\n",
    "\"\"\"\n",
    "\n",
    "print(\"Running comprehensive HAPI FHIR server health check...\")\n",
    "result = subprocess.run([\"powershell\", \"-NoLogo\", \"-NoProfile\", \"-Command\", ps_script], \n",
    "                        capture_output=True, text=True)\n",
    "\n",
    "print(result.stdout)\n",
    "if result.stderr:\n",
    "    print(\"STDERR:\", result.stderr, file=sys.stderr)\n",
    "    \n"
   ]
  },
  {
   "cell_type": "markdown",
   "id": "73519ec4",
   "metadata": {},
   "source": [
    "# 4.2 Test a sample Patient query"
   ]
  },
  {
   "cell_type": "code",
   "execution_count": null,
   "id": "2dbe1de5",
   "metadata": {},
   "outputs": [
    {
     "name": "stdout",
     "output_type": "stream",
     "text": [
      "Running comprehensive HAPI FHIR server health check...\n",
      "\n",
      "4. Testing Patient query...\n",
      "   Successfully retrieved patient with ID: 1\n",
      "   Patient has 19 linked resources\n",
      "\n"
     ]
    }
   ],
   "source": [
    "# 4. Test a sample Patient query\n",
    "import subprocess, sys\n",
    "\n",
    "ps_script = r\"\"\"\n",
    "$fhirBase = \"http://localhost:8080/fhir\"\n",
    "$results = [ordered]@{}\n",
    "\n",
    "Write-Output \"`n4. Testing Patient query...\"\n",
    "try {\n",
    "    $patients = Invoke-RestMethod -Uri \"$fhirBase/Patient?_count=1\" -TimeoutSec 15\n",
    "    \n",
    "    if ($patients.entry -and $patients.entry.Count -gt 0) {\n",
    "        $patientId = $patients.entry[0].resource.id\n",
    "        $results[\"Sample Patient\"] = \"Found (ID: $patientId)\"\n",
    "        Write-Output \"   Successfully retrieved patient with ID: $patientId\"\n",
    "        \n",
    "        # Try to get everything for this patient\n",
    "        try {\n",
    "            $everything = Invoke-RestMethod -Uri \"$fhirBase/Patient/$patientId/`$everything\" -TimeoutSec 30\n",
    "            $linkedResources = $everything.entry.Count - 1  # Subtract 1 for the patient resource itself\n",
    "            $results[\"Patient Graph\"] = \"$linkedResources linked resources\"\n",
    "            Write-Output \"   Patient has $linkedResources linked resources\"\n",
    "        } catch {\n",
    "            $errorMessage = $_.Exception.Message\n",
    "            $results[\"Patient Graph\"] = \" FAILED: $errorMessage\"\n",
    "            Write-Output \"   Could not retrieve patient graph: $errorMessage\"\n",
    "        }\n",
    "    } else {\n",
    "        $results[\"Sample Patient\"] = \"None found\"\n",
    "        Write-Output \"  No patients found in database\"\n",
    "    }\n",
    "} catch {\n",
    "    $errorMessage = $_.Exception.Message\n",
    "    $results[\"Sample Patient\"] = \" FAILED: $errorMessage\"\n",
    "    Write-Output \"   Error retrieving patients: $errorMessage\"\n",
    "}\n",
    "\"\"\"\n",
    "\n",
    "print(\"Running comprehensive HAPI FHIR server health check...\")\n",
    "result = subprocess.run([\"powershell\", \"-NoLogo\", \"-NoProfile\", \"-Command\", ps_script], \n",
    "                        capture_output=True, text=True)\n",
    "\n",
    "print(result.stdout)\n",
    "if result.stderr:\n",
    "    print(\"STDERR:\", result.stderr, file=sys.stderr)\n",
    "    \n"
   ]
  },
  {
   "cell_type": "markdown",
   "id": "ab99c24d",
   "metadata": {},
   "source": [
    "# 4.3 Check database status"
   ]
  },
  {
   "cell_type": "code",
   "execution_count": null,
   "id": "d8564974",
   "metadata": {},
   "outputs": [
    {
     "name": "stdout",
     "output_type": "stream",
     "text": [
      "Running comprehensive HAPI FHIR server health check...\n",
      "\n",
      "5. Checking database status...\n",
      "   Server resources: CPU: 0.26%, Memory: 29.75% (4.632GiB / 15.57GiB)\n",
      "\n",
      "========== SUMMARY ==========\n",
      "HAPI FHIR Server status: OPERATIONAL\n",
      "{\n",
      "    \"CPU Usage\":  \"0.26%\",\n",
      "    \"Memory Usage\":  \"29.75% (4.632GiB / 15.57GiB)\",\n",
      "    \"Overall Status\":  \"OPERATIONAL\"\n",
      "}\n",
      "\n"
     ]
    }
   ],
   "source": [
    "# 5. Check database status\n",
    "import subprocess, sys\n",
    "\n",
    "ps_script = r\"\"\"\n",
    "$fhirBase = \"http://localhost:8080/fhir\"\n",
    "$results = [ordered]@{}\n",
    "\n",
    "Write-Output \"`n5. Checking database status...\"\n",
    "try {\n",
    "    # Try to get server status\n",
    "    if ((Get-Command \"docker\" -ErrorAction SilentlyContinue)) {\n",
    "        $stats = docker stats hapi --no-stream --format \"{{.CPUPerc}}|{{.MemPerc}}|{{.MemUsage}}\"\n",
    "        $statsArray = $stats -split \"\\|\"\n",
    "        if ($statsArray.Count -eq 3) {\n",
    "            $results[\"CPU Usage\"] = $statsArray[0]\n",
    "            $results[\"Memory Usage\"] = \"$($statsArray[1]) ($($statsArray[2]))\"\n",
    "            Write-Output \"   Server resources: CPU: $($statsArray[0]), Memory: $($statsArray[1]) ($($statsArray[2]))\"\n",
    "        }\n",
    "    } else {\n",
    "        Write-Output \" Docker command not available, skipping resource check\"\n",
    "    }\n",
    "} catch {\n",
    "    $errorMessage = $_.Exception.Message\n",
    "    Write-Output \" Could not check server resources: $errorMessage\"\n",
    "}\n",
    "\"\"\"\n",
    "\n",
    "print(\"Running comprehensive HAPI FHIR server health check...\")\n",
    "result = subprocess.run([\"powershell\", \"-NoLogo\", \"-NoProfile\", \"-Command\", ps_script], \n",
    "                        capture_output=True, text=True)\n",
    "\n",
    "print(result.stdout)\n",
    "if result.stderr:\n",
    "    print(\"STDERR:\", result.stderr, file=sys.stderr)\n"
   ]
  },
  {
   "cell_type": "code",
   "execution_count": null,
   "id": "16c43aab",
   "metadata": {},
   "outputs": [],
   "source": [
    "import subprocess, sys\n",
    "ps_script = r\"\"\"\n",
    "$fhirBase = \"http://localhost:8080/fhir\"\n",
    "$results = [ordered]@{}\n",
    "\n",
    "# 6. Overall status\n",
    "$overallStatus = if ($results[\"Basic Connectivity\"] -like \"*\") { \"OPERATIONAL\" } else { \"NOT OPERATIONAL\" }\n",
    "$results[\"Overall Status\"] = $overallStatus\n",
    "\n",
    "Write-Output \"`n========== SUMMARY ==========\"\n",
    "Write-Output \"HAPI FHIR Server status: $overallStatus\"\n",
    "\n",
    "# Return the results object for further processing\n",
    "$results | ConvertTo-Json -Depth 3\n",
    "\"\"\"\n",
    "\n",
    "print(\"Running comprehensive HAPI FHIR server health check...\")\n",
    "result = subprocess.run([\"powershell\", \"-NoLogo\", \"-NoProfile\", \"-Command\", ps_script], \n",
    "                        capture_output=True, text=True)\n",
    "\n",
    "print(result.stdout)\n",
    "if result.stderr:\n",
    "    print(\"STDERR:\", result.stderr, file=sys.stderr)"
   ]
  },
  {
   "cell_type": "markdown",
   "id": "04facf4d",
   "metadata": {},
   "source": [
    "# 4.4 File‑to‑server parity"
   ]
  },
  {
   "cell_type": "code",
   "execution_count": null,
   "id": "5297ef68",
   "metadata": {},
   "outputs": [
    {
     "name": "stdout",
     "output_type": "stream",
     "text": [
      "Retrieving resource counts from server...\n",
      "Retrieving resource counts via standard search...\n",
      "Checking Patient resources...\n",
      "  \u001a Found 404 Patient resources\n",
      "Checking Practitioner resources...\n",
      "  \u001a Found 815 Practitioner resources\n",
      "Checking Organization resources...\n",
      "  \u001a Found 486 Organization resources\n",
      "Checking Encounter resources...\n",
      "  \u001a Found 14346 Encounter resources\n",
      "Checking Condition resources...\n",
      "  \u001a Found 10365 Condition resources\n",
      "Checking Observation resources...\n",
      "  \u001a Found 77224 Observation resources\n",
      "Checking Procedure resources...\n",
      "  \u001a Found 40430 Procedure resources\n",
      "Checking MedicationRequest resources...\n",
      "  \u001a Found 5907 MedicationRequest resources\n",
      "Checking Immunization resources...\n",
      "  \u001a Found 6011 Immunization resources\n",
      "Checking AllergyIntolerance resources...\n",
      "  \u001a Found 337 AllergyIntolerance resources\n",
      "Checking CarePlan resources...\n",
      "  \u001a Found 1212 CarePlan resources\n",
      "Checking DiagnosticReport resources...\n",
      "  \u001a Found 24073 DiagnosticReport resources\n",
      "Checking Goal resources...\n",
      "  \u001a Found 0 Goal resources\n",
      "Checking Medication resources...\n",
      "  \u001a Found 1236 Medication resources\n",
      "\n",
      "TOTAL RESOURCES: 182846\n",
      "{\n",
      "    \"Patient\":  404,\n",
      "    \"Practitioner\":  815,\n",
      "    \"Organization\":  486,\n",
      "    \"Encounter\":  14346,\n",
      "    \"Condition\":  10365,\n",
      "    \"Observation\":  77224,\n",
      "    \"Procedure\":  40430,\n",
      "    \"MedicationRequest\":  5907,\n",
      "    \"Immunization\":  6011,\n",
      "    \"AllergyIntolerance\":  337,\n",
      "    \"CarePlan\":  1212,\n",
      "    \"DiagnosticReport\":  24073,\n",
      "    \"Goal\":  0,\n",
      "    \"Medication\":  1236,\n",
      "    \"TOTAL\":  182846\n",
      "}\n",
      "\n"
     ]
    }
   ],
   "source": [
    "import subprocess, textwrap, sys\n",
    "\n",
    "ps_script = textwrap.dedent(r\"\"\"\n",
    "    $FHIR_BASE = \"http://localhost:8080/fhir/\"\n",
    "    Write-Output \"Retrieving resource counts via standard search...\"\n",
    "    \n",
    "    # Common FHIR resource types in Synthea data\n",
    "    $resourceTypes = @(\n",
    "        'Patient', 'Practitioner', 'Organization',\n",
    "        'Encounter', 'Condition', 'Observation', \n",
    "        'Procedure', 'MedicationRequest', 'Immunization',\n",
    "        'AllergyIntolerance', 'CarePlan', 'DiagnosticReport',\n",
    "        'Goal', 'Medication'\n",
    "    )\n",
    "    \n",
    "    $resourceCounts = [ordered]@{}\n",
    "    $total = 0\n",
    "    \n",
    "    foreach ($type in $resourceTypes) {\n",
    "        try {\n",
    "            Write-Output \"Checking $type resources...\"\n",
    "            $response = Invoke-RestMethod -Uri \"$FHIR_BASE$type`?_summary=count\" -Method Get -TimeoutSec 30\n",
    "            $count = $response.total\n",
    "            $resourceCounts[$type] = $count\n",
    "            $total += $count\n",
    "            Write-Output \"  -> Found $count $type resources\"\n",
    "        } catch {\n",
    "            $errorMessage = $_.Exception.Message\n",
    "            Write-Output \"  -> Error checking $type - $errorMessage\"\n",
    "            $resourceCounts[$type] = 0\n",
    "        }\n",
    "    }\n",
    "    \n",
    "    $resourceCounts[\"TOTAL\"] = $total\n",
    "    Write-Output \"`nTOTAL RESOURCES: $total\"\n",
    "    \n",
    "    # Output JSON summary\n",
    "    $resourceCounts | ConvertTo-Json -Depth 2\n",
    "\"\"\")\n",
    "\n",
    "print(\"Retrieving resource counts from server...\")\n",
    "result = subprocess.run([\"powershell\", \"-NoLogo\", \"-NoProfile\", \"-Command\", ps_script],\n",
    "                        capture_output=True, text=True)\n",
    "\n",
    "print(result.stdout)\n",
    "if result.stderr:\n",
    "    print(\"STDERR:\", result.stderr, file=sys.stderr)"
   ]
  },
  {
   "cell_type": "markdown",
   "id": "ec3fab54",
   "metadata": {},
   "source": [
    "# 4.3 Spot‑check a patient graph"
   ]
  },
  {
   "cell_type": "code",
   "execution_count": 24,
   "id": "176695ad",
   "metadata": {},
   "outputs": [
    {
     "name": "stdout",
     "output_type": "stream",
     "text": [
      "Random Patient ID = 1\n",
      "Resources linked to patient: 20\n",
      "\n"
     ]
    }
   ],
   "source": [
    "import subprocess\n",
    "\n",
    "# Define PowerShell script to check a random patient's data\n",
    "ps_script = \"\"\"\n",
    "$FHIR_BASE = \"http://localhost:8080/fhir/\"\n",
    "$id = (Invoke-RestMethod -Uri ($FHIR_BASE + \"Patient?_count=1\")).entry[0].resource.id\n",
    "Write-Output \"Random Patient ID = $id\"\n",
    "$everything = Invoke-RestMethod -Uri ($FHIR_BASE + \"Patient/$id/`$everything\")\n",
    "Write-Output (\"Resources linked to patient: \" + $everything.entry.Count)\n",
    "\"\"\"\n",
    "\n",
    "# Execute PowerShell script\n",
    "result = subprocess.run([\"powershell\", \"-Command\", ps_script], capture_output=True, text=True)\n",
    "print(result.stdout)\n",
    "if result.stderr:\n",
    "    print(\"Error:\", result.stderr)"
   ]
  },
  {
   "cell_type": "markdown",
   "id": "803ea955",
   "metadata": {},
   "source": [
    "## 5  Next steps\n",
    "* Enable `$export` and time how long NDJSON generation takes.\n",
    "* Switch persistence to PostgreSQL for multi‑million‑resource load.\n",
    "* Layer on SMART‑on‑FHIR or OAuth if you need auth.\n",
    "\n",
    "---\n",
    "*Notebook generated automatically from our ChatGPT session (June 2025).*"
   ]
  }
 ],
 "metadata": {
  "kernelspec": {
   "display_name": "base",
   "language": "python",
   "name": "python3"
  },
  "language_info": {
   "codemirror_mode": {
    "name": "ipython",
    "version": 3
   },
   "file_extension": ".py",
   "mimetype": "text/x-python",
   "name": "python",
   "nbconvert_exporter": "python",
   "pygments_lexer": "ipython3",
   "version": "3.12.7"
  }
 },
 "nbformat": 4,
 "nbformat_minor": 5
}
